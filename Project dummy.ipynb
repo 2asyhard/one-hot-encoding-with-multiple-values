{
 "cells": [
  {
   "cell_type": "markdown",
   "id": "04bfc0b3",
   "metadata": {},
   "source": [
    "# Accurate prediction of developer salaries from 2017 stackoverflow developer survey data"
   ]
  },
  {
   "cell_type": "markdown",
   "id": "b2809a13",
   "metadata": {},
   "source": [
    "### Main Questions: Would the prediction result be different if I use get dummies function differently?\n",
    "\n",
    "#### Q1. If you use the get dummie function according to the lecture method, the number of columns to increase is too large. Is there any way to reduce this?\n",
    "\n",
    "\n",
    "#### Q2. Which column will give the best result?\n",
    "Predict salary using each column and rank based on r2score\n",
    "\n",
    "\n",
    "#### Q3. How many columns should be selected in order of ranking to obtain the best r2 score?\n",
    "To get a better r2score, determine the number of columns, select the number of columns from the first place in the ranking, predict the salary, and get the r2score\n",
    "\n",
    "#### Q4. What happens to the result when only the column with good results are selected?\n",
    "Select a column from the first place in the ranking and check the result. If a bad result is found, the column is not selected and the next column is selected repeatedly.\n",
    "\n",
    "#### Q5. Conclusion\n",
    "\n",
    "\n",
    "### method 1 -> get dummies ordinary method\n",
    "### method 2 -> get dummies my method(customized function)"
   ]
  },
  {
   "cell_type": "code",
   "execution_count": null,
   "id": "0579b6ec",
   "metadata": {},
   "outputs": [],
   "source": []
  },
  {
   "cell_type": "code",
   "execution_count": null,
   "id": "1d518c68",
   "metadata": {},
   "outputs": [],
   "source": []
  },
  {
   "cell_type": "markdown",
   "id": "dc6752f5",
   "metadata": {},
   "source": [
    "# 1. Business Understanding\n",
    "### The data I have collected is from Stackoverflow survey in 2017\n",
    "### I want to investigate the annual income of developers based on this data"
   ]
  },
  {
   "cell_type": "code",
   "execution_count": null,
   "id": "5a226300",
   "metadata": {},
   "outputs": [],
   "source": []
  },
  {
   "cell_type": "code",
   "execution_count": null,
   "id": "173e4b90",
   "metadata": {},
   "outputs": [],
   "source": []
  },
  {
   "cell_type": "markdown",
   "id": "d3293be6",
   "metadata": {},
   "source": [
    "# 2. Data Understanding"
   ]
  },
  {
   "cell_type": "markdown",
   "id": "9e49778e",
   "metadata": {},
   "source": [
    "## 2.1. Import libraries"
   ]
  },
  {
   "cell_type": "code",
   "execution_count": 1,
   "id": "c71e410a",
   "metadata": {},
   "outputs": [],
   "source": [
    "import numpy as np\n",
    "import pandas as pd\n",
    "import matplotlib.pyplot as plt\n",
    "from sklearn.linear_model import LinearRegression\n",
    "from sklearn.model_selection import train_test_split\n",
    "from sklearn.metrics import r2_score, mean_squared_error\n",
    "import seaborn as sns\n",
    "import warnings\n",
    "warnings.filterwarnings(action='ignore')\n",
    "%matplotlib inline\n",
    "%load_ext autoreload\n",
    "%autoreload 2"
   ]
  },
  {
   "cell_type": "code",
   "execution_count": null,
   "id": "167d6548",
   "metadata": {},
   "outputs": [],
   "source": []
  },
  {
   "cell_type": "markdown",
   "id": "f7bd3ac0",
   "metadata": {},
   "source": [
    "## 2.2 Import data"
   ]
  },
  {
   "cell_type": "code",
   "execution_count": 2,
   "id": "a48a772d",
   "metadata": {},
   "outputs": [],
   "source": [
    "def import_data(data_path, drop_col=[]):\n",
    "    df = pd.read_csv(data_path)\n",
    "    print(\"Imported dataframe shape: \", df.shape)\n",
    "    \n",
    "    # drop specified columns\n",
    "    df = df.drop(drop_col, axis=1)\n",
    "    \n",
    "    # drop column with all nan values\n",
    "    df = df.dropna(how='all', axis=1)\n",
    "    print(f\"Df now has shape of {df.shape}\")\n",
    "    print(f\"Importing df with shape of {df.shape} is complete!!!\")\n",
    "    return df"
   ]
  },
  {
   "cell_type": "code",
   "execution_count": 3,
   "id": "0d8aa5d2",
   "metadata": {},
   "outputs": [
    {
     "name": "stdout",
     "output_type": "stream",
     "text": [
      "df shape: (51392, 154)\n"
     ]
    },
    {
     "data": {
      "text/html": [
       "<div>\n",
       "<style scoped>\n",
       "    .dataframe tbody tr th:only-of-type {\n",
       "        vertical-align: middle;\n",
       "    }\n",
       "\n",
       "    .dataframe tbody tr th {\n",
       "        vertical-align: top;\n",
       "    }\n",
       "\n",
       "    .dataframe thead th {\n",
       "        text-align: right;\n",
       "    }\n",
       "</style>\n",
       "<table border=\"1\" class=\"dataframe\">\n",
       "  <thead>\n",
       "    <tr style=\"text-align: right;\">\n",
       "      <th></th>\n",
       "      <th>Respondent</th>\n",
       "      <th>Professional</th>\n",
       "      <th>ProgramHobby</th>\n",
       "      <th>Country</th>\n",
       "      <th>University</th>\n",
       "      <th>EmploymentStatus</th>\n",
       "      <th>FormalEducation</th>\n",
       "      <th>MajorUndergrad</th>\n",
       "      <th>HomeRemote</th>\n",
       "      <th>CompanySize</th>\n",
       "      <th>...</th>\n",
       "      <th>StackOverflowMakeMoney</th>\n",
       "      <th>Gender</th>\n",
       "      <th>HighestEducationParents</th>\n",
       "      <th>Race</th>\n",
       "      <th>SurveyLong</th>\n",
       "      <th>QuestionsInteresting</th>\n",
       "      <th>QuestionsConfusing</th>\n",
       "      <th>InterestedAnswers</th>\n",
       "      <th>Salary</th>\n",
       "      <th>ExpectedSalary</th>\n",
       "    </tr>\n",
       "  </thead>\n",
       "  <tbody>\n",
       "    <tr>\n",
       "      <th>0</th>\n",
       "      <td>1</td>\n",
       "      <td>Student</td>\n",
       "      <td>Yes, both</td>\n",
       "      <td>United States</td>\n",
       "      <td>No</td>\n",
       "      <td>Not employed, and not looking for work</td>\n",
       "      <td>Secondary school</td>\n",
       "      <td>NaN</td>\n",
       "      <td>NaN</td>\n",
       "      <td>NaN</td>\n",
       "      <td>...</td>\n",
       "      <td>Strongly disagree</td>\n",
       "      <td>Male</td>\n",
       "      <td>High school</td>\n",
       "      <td>White or of European descent</td>\n",
       "      <td>Strongly disagree</td>\n",
       "      <td>Strongly agree</td>\n",
       "      <td>Disagree</td>\n",
       "      <td>Strongly agree</td>\n",
       "      <td>NaN</td>\n",
       "      <td>NaN</td>\n",
       "    </tr>\n",
       "    <tr>\n",
       "      <th>1</th>\n",
       "      <td>2</td>\n",
       "      <td>Student</td>\n",
       "      <td>Yes, both</td>\n",
       "      <td>United Kingdom</td>\n",
       "      <td>Yes, full-time</td>\n",
       "      <td>Employed part-time</td>\n",
       "      <td>Some college/university study without earning ...</td>\n",
       "      <td>Computer science or software engineering</td>\n",
       "      <td>More than half, but not all, the time</td>\n",
       "      <td>20 to 99 employees</td>\n",
       "      <td>...</td>\n",
       "      <td>Strongly disagree</td>\n",
       "      <td>Male</td>\n",
       "      <td>A master's degree</td>\n",
       "      <td>White or of European descent</td>\n",
       "      <td>Somewhat agree</td>\n",
       "      <td>Somewhat agree</td>\n",
       "      <td>Disagree</td>\n",
       "      <td>Strongly agree</td>\n",
       "      <td>NaN</td>\n",
       "      <td>37500.0</td>\n",
       "    </tr>\n",
       "    <tr>\n",
       "      <th>2</th>\n",
       "      <td>3</td>\n",
       "      <td>Professional developer</td>\n",
       "      <td>Yes, both</td>\n",
       "      <td>United Kingdom</td>\n",
       "      <td>No</td>\n",
       "      <td>Employed full-time</td>\n",
       "      <td>Bachelor's degree</td>\n",
       "      <td>Computer science or software engineering</td>\n",
       "      <td>Less than half the time, but at least one day ...</td>\n",
       "      <td>10,000 or more employees</td>\n",
       "      <td>...</td>\n",
       "      <td>Disagree</td>\n",
       "      <td>Male</td>\n",
       "      <td>A professional degree</td>\n",
       "      <td>White or of European descent</td>\n",
       "      <td>Somewhat agree</td>\n",
       "      <td>Agree</td>\n",
       "      <td>Disagree</td>\n",
       "      <td>Agree</td>\n",
       "      <td>113750.0</td>\n",
       "      <td>NaN</td>\n",
       "    </tr>\n",
       "    <tr>\n",
       "      <th>3</th>\n",
       "      <td>4</td>\n",
       "      <td>Professional non-developer who sometimes write...</td>\n",
       "      <td>Yes, both</td>\n",
       "      <td>United States</td>\n",
       "      <td>No</td>\n",
       "      <td>Employed full-time</td>\n",
       "      <td>Doctoral degree</td>\n",
       "      <td>A non-computer-focused engineering discipline</td>\n",
       "      <td>Less than half the time, but at least one day ...</td>\n",
       "      <td>10,000 or more employees</td>\n",
       "      <td>...</td>\n",
       "      <td>Disagree</td>\n",
       "      <td>Male</td>\n",
       "      <td>A doctoral degree</td>\n",
       "      <td>White or of European descent</td>\n",
       "      <td>Agree</td>\n",
       "      <td>Agree</td>\n",
       "      <td>Somewhat agree</td>\n",
       "      <td>Strongly agree</td>\n",
       "      <td>NaN</td>\n",
       "      <td>NaN</td>\n",
       "    </tr>\n",
       "    <tr>\n",
       "      <th>4</th>\n",
       "      <td>5</td>\n",
       "      <td>Professional developer</td>\n",
       "      <td>Yes, I program as a hobby</td>\n",
       "      <td>Switzerland</td>\n",
       "      <td>No</td>\n",
       "      <td>Employed full-time</td>\n",
       "      <td>Master's degree</td>\n",
       "      <td>Computer science or software engineering</td>\n",
       "      <td>Never</td>\n",
       "      <td>10 to 19 employees</td>\n",
       "      <td>...</td>\n",
       "      <td>NaN</td>\n",
       "      <td>NaN</td>\n",
       "      <td>NaN</td>\n",
       "      <td>NaN</td>\n",
       "      <td>NaN</td>\n",
       "      <td>NaN</td>\n",
       "      <td>NaN</td>\n",
       "      <td>NaN</td>\n",
       "      <td>NaN</td>\n",
       "      <td>NaN</td>\n",
       "    </tr>\n",
       "  </tbody>\n",
       "</table>\n",
       "<p>5 rows × 154 columns</p>\n",
       "</div>"
      ],
      "text/plain": [
       "   Respondent                                       Professional  \\\n",
       "0           1                                            Student   \n",
       "1           2                                            Student   \n",
       "2           3                             Professional developer   \n",
       "3           4  Professional non-developer who sometimes write...   \n",
       "4           5                             Professional developer   \n",
       "\n",
       "                ProgramHobby         Country      University  \\\n",
       "0                  Yes, both   United States              No   \n",
       "1                  Yes, both  United Kingdom  Yes, full-time   \n",
       "2                  Yes, both  United Kingdom              No   \n",
       "3                  Yes, both   United States              No   \n",
       "4  Yes, I program as a hobby     Switzerland              No   \n",
       "\n",
       "                         EmploymentStatus  \\\n",
       "0  Not employed, and not looking for work   \n",
       "1                      Employed part-time   \n",
       "2                      Employed full-time   \n",
       "3                      Employed full-time   \n",
       "4                      Employed full-time   \n",
       "\n",
       "                                     FormalEducation  \\\n",
       "0                                   Secondary school   \n",
       "1  Some college/university study without earning ...   \n",
       "2                                  Bachelor's degree   \n",
       "3                                    Doctoral degree   \n",
       "4                                    Master's degree   \n",
       "\n",
       "                                  MajorUndergrad  \\\n",
       "0                                            NaN   \n",
       "1       Computer science or software engineering   \n",
       "2       Computer science or software engineering   \n",
       "3  A non-computer-focused engineering discipline   \n",
       "4       Computer science or software engineering   \n",
       "\n",
       "                                          HomeRemote  \\\n",
       "0                                                NaN   \n",
       "1              More than half, but not all, the time   \n",
       "2  Less than half the time, but at least one day ...   \n",
       "3  Less than half the time, but at least one day ...   \n",
       "4                                              Never   \n",
       "\n",
       "                CompanySize  ... StackOverflowMakeMoney Gender  \\\n",
       "0                       NaN  ...      Strongly disagree   Male   \n",
       "1        20 to 99 employees  ...      Strongly disagree   Male   \n",
       "2  10,000 or more employees  ...               Disagree   Male   \n",
       "3  10,000 or more employees  ...               Disagree   Male   \n",
       "4        10 to 19 employees  ...                    NaN    NaN   \n",
       "\n",
       "  HighestEducationParents                          Race         SurveyLong  \\\n",
       "0             High school  White or of European descent  Strongly disagree   \n",
       "1       A master's degree  White or of European descent     Somewhat agree   \n",
       "2   A professional degree  White or of European descent     Somewhat agree   \n",
       "3       A doctoral degree  White or of European descent              Agree   \n",
       "4                     NaN                           NaN                NaN   \n",
       "\n",
       "  QuestionsInteresting QuestionsConfusing InterestedAnswers    Salary  \\\n",
       "0       Strongly agree           Disagree    Strongly agree       NaN   \n",
       "1       Somewhat agree           Disagree    Strongly agree       NaN   \n",
       "2                Agree           Disagree             Agree  113750.0   \n",
       "3                Agree     Somewhat agree    Strongly agree       NaN   \n",
       "4                  NaN                NaN               NaN       NaN   \n",
       "\n",
       "   ExpectedSalary  \n",
       "0             NaN  \n",
       "1         37500.0  \n",
       "2             NaN  \n",
       "3             NaN  \n",
       "4             NaN  \n",
       "\n",
       "[5 rows x 154 columns]"
      ]
     },
     "execution_count": 3,
     "metadata": {},
     "output_type": "execute_result"
    }
   ],
   "source": [
    "df = pd.read_csv('./survey_results_public_2017.csv')\n",
    "print(f\"df shape: {df.shape}\")\n",
    "df.head()"
   ]
  },
  {
   "cell_type": "code",
   "execution_count": null,
   "id": "c12e8c69",
   "metadata": {},
   "outputs": [],
   "source": []
  },
  {
   "cell_type": "markdown",
   "id": "15ccd6d3",
   "metadata": {},
   "source": [
    "## 2.3 Calculate ratio of nan values in Salary column"
   ]
  },
  {
   "cell_type": "code",
   "execution_count": 4,
   "id": "1189820b",
   "metadata": {},
   "outputs": [
    {
     "name": "stdout",
     "output_type": "stream",
     "text": [
      "nan ratio of Salary column is  0.7491632938978829\n",
      "number of rows after drop: 12891\n"
     ]
    }
   ],
   "source": [
    "salary_nan_ratio = df.Salary.isnull().sum()/df.shape[0]\n",
    "print(\"nan ratio of Salary column is \", salary_nan_ratio)\n",
    "print(f\"number of rows after drop: {df.dropna(axis=0, subset='Salary').shape[0]}\")"
   ]
  },
  {
   "cell_type": "markdown",
   "id": "f3a13482",
   "metadata": {},
   "source": [
    "### Number of data available for predicting salary is 12891"
   ]
  },
  {
   "cell_type": "code",
   "execution_count": null,
   "id": "8d9a126d",
   "metadata": {},
   "outputs": [],
   "source": []
  },
  {
   "cell_type": "markdown",
   "id": "fab03516",
   "metadata": {},
   "source": [
    "## 2.4 Columns with multiple values in each cells and get dummies function\n",
    "#### Cells of some columns, which are categorical datatypes, have multiple values and are separated by semi colons(;). In this case, when performing one hot encoding using pd.get_dummies function, a value of 1 should be given to all the corresponding columns, not just one column."
   ]
  },
  {
   "cell_type": "markdown",
   "id": "6c68c481",
   "metadata": {},
   "source": [
    "### Example of column with multiple values seperated by semi colons"
   ]
  },
  {
   "cell_type": "code",
   "execution_count": 5,
   "id": "d3f56f3e",
   "metadata": {},
   "outputs": [
    {
     "name": "stdout",
     "output_type": "stream",
     "text": [
      "(51392,)\n"
     ]
    },
    {
     "data": {
      "text/plain": [
       "0                            Swift\n",
       "1    JavaScript; Python; Ruby; SQL\n",
       "2                Java; PHP; Python\n",
       "3           Matlab; Python; R; SQL\n",
       "Name: HaveWorkedLanguage, dtype: object"
      ]
     },
     "execution_count": 5,
     "metadata": {},
     "output_type": "execute_result"
    }
   ],
   "source": [
    "print(df.HaveWorkedLanguage.shape)\n",
    "df.HaveWorkedLanguage[:4]"
   ]
  },
  {
   "cell_type": "markdown",
   "id": "859283fd",
   "metadata": {},
   "source": [
    "### dummy will look like below, and it doesn't look good. And also dummy has 8438 columns"
   ]
  },
  {
   "cell_type": "code",
   "execution_count": 6,
   "id": "7cb850d9",
   "metadata": {},
   "outputs": [
    {
     "name": "stdout",
     "output_type": "stream",
     "text": [
      "(51392, 8438)\n"
     ]
    },
    {
     "data": {
      "text/html": [
       "<div>\n",
       "<style scoped>\n",
       "    .dataframe tbody tr th:only-of-type {\n",
       "        vertical-align: middle;\n",
       "    }\n",
       "\n",
       "    .dataframe tbody tr th {\n",
       "        vertical-align: top;\n",
       "    }\n",
       "\n",
       "    .dataframe thead th {\n",
       "        text-align: right;\n",
       "    }\n",
       "</style>\n",
       "<table border=\"1\" class=\"dataframe\">\n",
       "  <thead>\n",
       "    <tr style=\"text-align: right;\">\n",
       "      <th></th>\n",
       "      <th>Assembly</th>\n",
       "      <th>Assembly; C</th>\n",
       "      <th>Assembly; C#</th>\n",
       "      <th>Assembly; C#; Clojure</th>\n",
       "      <th>Assembly; C#; CoffeeScript; Dart; Go; Haskell; Java; JavaScript; Lua; Matlab; PHP; Python; R; Ruby; Rust; Smalltalk; SQL; TypeScript</th>\n",
       "      <th>Assembly; C#; CoffeeScript; JavaScript; SQL; Swift; TypeScript</th>\n",
       "      <th>Assembly; C#; Common Lisp; Elixir; F#</th>\n",
       "      <th>Assembly; C#; Common Lisp; Elixir; Groovy; R; Rust; Smalltalk; VB.NET; Visual Basic 6</th>\n",
       "      <th>Assembly; C#; Common Lisp; JavaScript; PHP; Python; SQL; VBA</th>\n",
       "      <th>Assembly; C#; F#; Java; JavaScript; Objective-C; PHP; Python; SQL; Swift; VB.NET; VBA</th>\n",
       "      <th>...</th>\n",
       "      <th>Swift; TypeScript</th>\n",
       "      <th>Swift; VB.NET</th>\n",
       "      <th>TypeScript</th>\n",
       "      <th>VB.NET</th>\n",
       "      <th>VB.NET; VBA</th>\n",
       "      <th>VB.NET; VBA; Visual Basic 6</th>\n",
       "      <th>VB.NET; Visual Basic 6</th>\n",
       "      <th>VBA</th>\n",
       "      <th>VBA; Visual Basic 6</th>\n",
       "      <th>Visual Basic 6</th>\n",
       "    </tr>\n",
       "  </thead>\n",
       "  <tbody>\n",
       "    <tr>\n",
       "      <th>0</th>\n",
       "      <td>0</td>\n",
       "      <td>0</td>\n",
       "      <td>0</td>\n",
       "      <td>0</td>\n",
       "      <td>0</td>\n",
       "      <td>0</td>\n",
       "      <td>0</td>\n",
       "      <td>0</td>\n",
       "      <td>0</td>\n",
       "      <td>0</td>\n",
       "      <td>...</td>\n",
       "      <td>0</td>\n",
       "      <td>0</td>\n",
       "      <td>0</td>\n",
       "      <td>0</td>\n",
       "      <td>0</td>\n",
       "      <td>0</td>\n",
       "      <td>0</td>\n",
       "      <td>0</td>\n",
       "      <td>0</td>\n",
       "      <td>0</td>\n",
       "    </tr>\n",
       "    <tr>\n",
       "      <th>1</th>\n",
       "      <td>0</td>\n",
       "      <td>0</td>\n",
       "      <td>0</td>\n",
       "      <td>0</td>\n",
       "      <td>0</td>\n",
       "      <td>0</td>\n",
       "      <td>0</td>\n",
       "      <td>0</td>\n",
       "      <td>0</td>\n",
       "      <td>0</td>\n",
       "      <td>...</td>\n",
       "      <td>0</td>\n",
       "      <td>0</td>\n",
       "      <td>0</td>\n",
       "      <td>0</td>\n",
       "      <td>0</td>\n",
       "      <td>0</td>\n",
       "      <td>0</td>\n",
       "      <td>0</td>\n",
       "      <td>0</td>\n",
       "      <td>0</td>\n",
       "    </tr>\n",
       "    <tr>\n",
       "      <th>2</th>\n",
       "      <td>0</td>\n",
       "      <td>0</td>\n",
       "      <td>0</td>\n",
       "      <td>0</td>\n",
       "      <td>0</td>\n",
       "      <td>0</td>\n",
       "      <td>0</td>\n",
       "      <td>0</td>\n",
       "      <td>0</td>\n",
       "      <td>0</td>\n",
       "      <td>...</td>\n",
       "      <td>0</td>\n",
       "      <td>0</td>\n",
       "      <td>0</td>\n",
       "      <td>0</td>\n",
       "      <td>0</td>\n",
       "      <td>0</td>\n",
       "      <td>0</td>\n",
       "      <td>0</td>\n",
       "      <td>0</td>\n",
       "      <td>0</td>\n",
       "    </tr>\n",
       "  </tbody>\n",
       "</table>\n",
       "<p>3 rows × 8438 columns</p>\n",
       "</div>"
      ],
      "text/plain": [
       "   Assembly  Assembly; C  Assembly; C#  Assembly; C#; Clojure  \\\n",
       "0         0            0             0                      0   \n",
       "1         0            0             0                      0   \n",
       "2         0            0             0                      0   \n",
       "\n",
       "   Assembly; C#; CoffeeScript; Dart; Go; Haskell; Java; JavaScript; Lua; Matlab; PHP; Python; R; Ruby; Rust; Smalltalk; SQL; TypeScript  \\\n",
       "0                                                  0                                                                                      \n",
       "1                                                  0                                                                                      \n",
       "2                                                  0                                                                                      \n",
       "\n",
       "   Assembly; C#; CoffeeScript; JavaScript; SQL; Swift; TypeScript  \\\n",
       "0                                                  0                \n",
       "1                                                  0                \n",
       "2                                                  0                \n",
       "\n",
       "   Assembly; C#; Common Lisp; Elixir; F#  \\\n",
       "0                                      0   \n",
       "1                                      0   \n",
       "2                                      0   \n",
       "\n",
       "   Assembly; C#; Common Lisp; Elixir; Groovy; R; Rust; Smalltalk; VB.NET; Visual Basic 6  \\\n",
       "0                                                  0                                       \n",
       "1                                                  0                                       \n",
       "2                                                  0                                       \n",
       "\n",
       "   Assembly; C#; Common Lisp; JavaScript; PHP; Python; SQL; VBA  \\\n",
       "0                                                  0              \n",
       "1                                                  0              \n",
       "2                                                  0              \n",
       "\n",
       "   Assembly; C#; F#; Java; JavaScript; Objective-C; PHP; Python; SQL; Swift; VB.NET; VBA  \\\n",
       "0                                                  0                                       \n",
       "1                                                  0                                       \n",
       "2                                                  0                                       \n",
       "\n",
       "   ...  Swift; TypeScript  Swift; VB.NET  TypeScript  VB.NET  VB.NET; VBA  \\\n",
       "0  ...                  0              0           0       0            0   \n",
       "1  ...                  0              0           0       0            0   \n",
       "2  ...                  0              0           0       0            0   \n",
       "\n",
       "   VB.NET; VBA; Visual Basic 6  VB.NET; Visual Basic 6  VBA  \\\n",
       "0                            0                       0    0   \n",
       "1                            0                       0    0   \n",
       "2                            0                       0    0   \n",
       "\n",
       "   VBA; Visual Basic 6  Visual Basic 6  \n",
       "0                    0               0  \n",
       "1                    0               0  \n",
       "2                    0               0  \n",
       "\n",
       "[3 rows x 8438 columns]"
      ]
     },
     "execution_count": 6,
     "metadata": {},
     "output_type": "execute_result"
    }
   ],
   "source": [
    "dummy = pd.get_dummies(df.HaveWorkedLanguage)\n",
    "print(dummy.shape)\n",
    "dummy.head(3)"
   ]
  },
  {
   "cell_type": "markdown",
   "id": "c2902e63",
   "metadata": {},
   "source": [
    "### It seems that number of columns in dummy is too big. I think If the number of columns can be reduced, better results can be obtained."
   ]
  },
  {
   "cell_type": "code",
   "execution_count": null,
   "id": "016deb2e",
   "metadata": {},
   "outputs": [],
   "source": []
  },
  {
   "cell_type": "code",
   "execution_count": null,
   "id": "3243d7b0",
   "metadata": {},
   "outputs": [],
   "source": []
  },
  {
   "cell_type": "markdown",
   "id": "516c10a4",
   "metadata": {},
   "source": [
    "# 3. Data Preparation\n",
    "### Each data of the preprocessed columns are stored in the form of a dictionary  for various trials"
   ]
  },
  {
   "cell_type": "markdown",
   "id": "857fa409",
   "metadata": {},
   "source": [
    "## 3.1. Use Salary column as y(label), so if the value of the salary column is nan, row has to be dropped"
   ]
  },
  {
   "cell_type": "code",
   "execution_count": 7,
   "id": "ca0ada50",
   "metadata": {},
   "outputs": [
    {
     "name": "stdout",
     "output_type": "stream",
     "text": [
      "(51392, 154)\n"
     ]
    },
    {
     "data": {
      "text/plain": [
       "(12891, 154)"
      ]
     },
     "execution_count": 7,
     "metadata": {},
     "output_type": "execute_result"
    }
   ],
   "source": [
    "print(df.shape)\n",
    "df = df.dropna(subset='Salary', axis=0)\n",
    "df.shape"
   ]
  },
  {
   "cell_type": "code",
   "execution_count": 8,
   "id": "1d8663d1",
   "metadata": {},
   "outputs": [
    {
     "name": "stdout",
     "output_type": "stream",
     "text": [
      "(12891,)\n",
      "(12891, 153)\n"
     ]
    }
   ],
   "source": [
    "y = df.Salary\n",
    "X = df.drop('Salary', axis=1)\n",
    "print(y.shape)\n",
    "print(X.shape)"
   ]
  },
  {
   "cell_type": "code",
   "execution_count": null,
   "id": "e0b8d331",
   "metadata": {},
   "outputs": [],
   "source": []
  },
  {
   "cell_type": "markdown",
   "id": "3312e293",
   "metadata": {},
   "source": [
    "## 3.2. Remove unnecessary columns or columns with all values of nan"
   ]
  },
  {
   "cell_type": "code",
   "execution_count": 9,
   "id": "a07b54db",
   "metadata": {},
   "outputs": [
    {
     "name": "stdout",
     "output_type": "stream",
     "text": [
      "(12891, 153)\n",
      "(12891, 154)\n",
      "(12891, 145)\n"
     ]
    }
   ],
   "source": [
    "print(X.shape)\n",
    "X = X.drop('Respondent', axis=1)\n",
    "print(df.shape)\n",
    "X = X.dropna(how='all', axis=1)\n",
    "print(X.shape)"
   ]
  },
  {
   "cell_type": "code",
   "execution_count": null,
   "id": "c4c83aad",
   "metadata": {},
   "outputs": [],
   "source": []
  },
  {
   "cell_type": "markdown",
   "id": "a06d5d2e",
   "metadata": {},
   "source": [
    "## 3.3. If the data type of the column is numeric, fill in the nan value with the average value."
   ]
  },
  {
   "cell_type": "code",
   "execution_count": 10,
   "id": "89d3b66d",
   "metadata": {},
   "outputs": [],
   "source": [
    "def get_numeric_type_columns(df):\n",
    "    df_num = df.select_dtypes(include=['int', 'float'])\n",
    "    df_num_cols = df_num.columns\n",
    "    print(\"Numeric columns from this df: \", df_num.shape[1])\n",
    "    return df_num_cols"
   ]
  },
  {
   "cell_type": "code",
   "execution_count": 11,
   "id": "fc53bc70",
   "metadata": {},
   "outputs": [],
   "source": [
    "def fill_mean(series):\n",
    "    # Mean function\n",
    "    mean = series.mean()\n",
    "    # Fill the mean\n",
    "    series = series.fillna(mean, axis=0)\n",
    "    return series"
   ]
  },
  {
   "cell_type": "code",
   "execution_count": 12,
   "id": "2e0b0743",
   "metadata": {},
   "outputs": [],
   "source": [
    "def get_numeric_dict(df):\n",
    "    df_num_cols = get_numeric_type_columns(df)\n",
    "    numeric_df_dict = {}\n",
    "    numeric_df_names_list = []\n",
    "    for col in df_num_cols:\n",
    "        df_filled = fill_mean(df[col])\n",
    "        numeric_df_dict[col] = df_filled\n",
    "        numeric_df_names_list.append(col)\n",
    "    return numeric_df_dict, numeric_df_names_list"
   ]
  },
  {
   "cell_type": "markdown",
   "id": "9ff303fe",
   "metadata": {},
   "source": [
    "### I will save each columns result in dictionary for later use"
   ]
  },
  {
   "cell_type": "code",
   "execution_count": 13,
   "id": "a0b01852",
   "metadata": {},
   "outputs": [
    {
     "name": "stdout",
     "output_type": "stream",
     "text": [
      "Numeric columns from this df:  4\n"
     ]
    },
    {
     "data": {
      "text/plain": [
       "['CareerSatisfaction',\n",
       " 'JobSatisfaction',\n",
       " 'HoursPerWeek',\n",
       " 'StackOverflowSatisfaction']"
      ]
     },
     "execution_count": 13,
     "metadata": {},
     "output_type": "execute_result"
    }
   ],
   "source": [
    "numeric_dict, numeric_df_names_list = get_numeric_dict(X)\n",
    "numeric_df_names_list"
   ]
  },
  {
   "cell_type": "code",
   "execution_count": null,
   "id": "78a19b06",
   "metadata": {},
   "outputs": [],
   "source": []
  },
  {
   "cell_type": "markdown",
   "id": "a698b804",
   "metadata": {},
   "source": [
    "## 3.4. If the data type of the column is object, get dummies\n",
    "### The part of finding the dummy will be written in detail in chapter 4 - Q1"
   ]
  },
  {
   "cell_type": "code",
   "execution_count": null,
   "id": "2597c699",
   "metadata": {},
   "outputs": [],
   "source": []
  },
  {
   "cell_type": "code",
   "execution_count": null,
   "id": "22d06283",
   "metadata": {},
   "outputs": [],
   "source": []
  },
  {
   "cell_type": "markdown",
   "id": "c1239029",
   "metadata": {},
   "source": [
    "# 4. Modeling\n",
    "### In this section I will find solutions to my questions"
   ]
  },
  {
   "cell_type": "markdown",
   "id": "cc73b21a",
   "metadata": {},
   "source": [
    "### Main Questions: Would the prediction result be different if I use get dummies func differently?\n",
    "\n",
    "#### Q1. If you use the get dummie function according to the lecture method, the number of columns to increase is too large. Is there any way to reduce this?\n",
    "\n",
    "\n",
    "#### Q2. Which column will give the best result?\n",
    "Predict salary using each column and rank based on r2score\n",
    "\n",
    "\n",
    "#### Q3. How many columns should be selected in order of ranking to obtain the best r2 score?\n",
    "To get a better r2score, determine the number of columns, select the number of columns from the first place in the ranking, predict the salary, and get the r2score\n",
    "\n",
    "#### Q4. What happens to the result when only the column with good results are selected?\n",
    "Select a column from the first place in the ranking and check the result. If a bad result is found, the column is not selected and the next column is selected repeatedly.\n",
    "\n",
    "#### Q5. Conclusion"
   ]
  },
  {
   "cell_type": "code",
   "execution_count": null,
   "id": "32ae5793",
   "metadata": {},
   "outputs": [],
   "source": []
  },
  {
   "cell_type": "markdown",
   "id": "0bdb0d3e",
   "metadata": {},
   "source": [
    "## Q1. If you use the get dummie function according to the lecture method, the number of columns to increase is too large. Is there any way to reduce this?\n",
    "#### method 1 -> get dummies ordinary method\n",
    "#### method 2 -> get dummies my method(customized function)"
   ]
  },
  {
   "cell_type": "markdown",
   "id": "546ba685",
   "metadata": {},
   "source": [
    "### Q1.1. Define functions to get dummies"
   ]
  },
  {
   "cell_type": "code",
   "execution_count": 14,
   "id": "f340d8c3",
   "metadata": {},
   "outputs": [],
   "source": [
    "def get_dummy_simple(series, dummy_na=False):\n",
    "    df = pd.DataFrame()\n",
    "    try:\n",
    "        df = pd.get_dummies(series, prefix=series.name, prefix_sep='_', drop_first=False, dummy_na=dummy_na)\n",
    "    except:\n",
    "        print(f\"Error with get_dummy_simple(), column: {series.name}\")\n",
    "    return df"
   ]
  },
  {
   "cell_type": "code",
   "execution_count": 15,
   "id": "67aba7a4",
   "metadata": {},
   "outputs": [],
   "source": [
    "def get_object_type_columns(df):\n",
    "    df_obj = df.select_dtypes(include=['object'])\n",
    "    df_obj_cols = df_obj.columns\n",
    "    print(\"Object columns from this df: \", df_obj.shape[1])\n",
    "    return df_obj_cols"
   ]
  },
  {
   "cell_type": "code",
   "execution_count": 16,
   "id": "63afaa61",
   "metadata": {},
   "outputs": [],
   "source": [
    "def get_multiple_value_columns(df):\n",
    "    contain_semicolons = df.apply(lambda col: \n",
    "                                  col.str.contains(';').any()\n",
    "                                  if col.dtypes==object\n",
    "                                  else False)\n",
    "    df_contain_semicolons = df.loc[:, contain_semicolons]\n",
    "    multiple_value_columns = df_contain_semicolons.columns\n",
    "    return multiple_value_columns"
   ]
  },
  {
   "cell_type": "code",
   "execution_count": 17,
   "id": "64519cc5",
   "metadata": {},
   "outputs": [],
   "source": [
    "def categorize_feature(series):\n",
    "    series = series.apply(lambda value: list(value.split(';'))\n",
    "                       if type(value)!=float\n",
    "                       else float('nan'))\n",
    "    return pd.get_dummies(series.apply(pd.Series).stack(dropna=False), prefix=series.name, prefix_sep='_').sum(level=0)    "
   ]
  },
  {
   "cell_type": "code",
   "execution_count": 18,
   "id": "0c7c8f19",
   "metadata": {},
   "outputs": [],
   "source": [
    "def get_dummy_dict(df, multiple_value_columns=[]):\n",
    "    df_obj_cols = get_object_type_columns(df)\n",
    "    categorized_df_dict = {}\n",
    "    categorized_df_names_list = []\n",
    "    for col in df_obj_cols:\n",
    "        if col in multiple_value_columns:\n",
    "            df_dummy = categorize_feature(df[col]) # my method\n",
    "        else:\n",
    "            df_dummy = get_dummy_simple(df[col]) # simple method\n",
    "        categorized_df_dict[col] = df_dummy\n",
    "        categorized_df_names_list.append(col)\n",
    "    return categorized_df_dict, categorized_df_names_list"
   ]
  },
  {
   "cell_type": "markdown",
   "id": "830297dc",
   "metadata": {},
   "source": [
    "### Q1.2. Store dummies in dictionaries"
   ]
  },
  {
   "cell_type": "code",
   "execution_count": 19,
   "id": "0bcd73a1",
   "metadata": {},
   "outputs": [
    {
     "data": {
      "text/plain": [
       "Index(['DeveloperType', 'MobileDeveloperType', 'ImportantBenefits',\n",
       "       'JobProfile', 'EducationTypes', 'SelfTaughtTypes', 'CousinEducation',\n",
       "       'HaveWorkedLanguage', 'WantWorkLanguage', 'HaveWorkedFramework',\n",
       "       'WantWorkFramework', 'HaveWorkedDatabase', 'WantWorkDatabase',\n",
       "       'HaveWorkedPlatform', 'WantWorkPlatform', 'IDE', 'Methodology',\n",
       "       'MetricAssess', 'StackOverflowDevices', 'Gender', 'Race'],\n",
       "      dtype='object')"
      ]
     },
     "execution_count": 19,
     "metadata": {},
     "output_type": "execute_result"
    }
   ],
   "source": [
    "multiple_value_columns = get_multiple_value_columns(X)\n",
    "multiple_value_columns"
   ]
  },
  {
   "cell_type": "markdown",
   "id": "6b324fbe",
   "metadata": {},
   "source": [
    "#### Q1.2.1. Method 1 dictionary - get dummies ordinary method"
   ]
  },
  {
   "cell_type": "code",
   "execution_count": 20,
   "id": "04ffc556",
   "metadata": {},
   "outputs": [
    {
     "name": "stdout",
     "output_type": "stream",
     "text": [
      "Object columns from this df:  141\n"
     ]
    }
   ],
   "source": [
    "dummy_dict1, _ = get_dummy_dict(X)"
   ]
  },
  {
   "cell_type": "markdown",
   "id": "a9443fd6",
   "metadata": {},
   "source": [
    "#### Q1.2.2. Method 2 dictionary - get dummies my method(customized function)"
   ]
  },
  {
   "cell_type": "code",
   "execution_count": 21,
   "id": "5812d1df",
   "metadata": {},
   "outputs": [
    {
     "name": "stdout",
     "output_type": "stream",
     "text": [
      "Object columns from this df:  141\n"
     ]
    }
   ],
   "source": [
    "dummy_dict2, _ = get_dummy_dict(X, multiple_value_columns)"
   ]
  },
  {
   "cell_type": "markdown",
   "id": "826c8a85",
   "metadata": {},
   "source": [
    "#### Q1.2.3. Checking that the dictionary was created correctly"
   ]
  },
  {
   "cell_type": "code",
   "execution_count": 22,
   "id": "b5119e71",
   "metadata": {},
   "outputs": [],
   "source": [
    "assert X.shape[1] == len(numeric_dict) + len(dummy_dict1)\n",
    "assert X.shape[1] == len(numeric_dict) + len(dummy_dict2)"
   ]
  },
  {
   "cell_type": "markdown",
   "id": "0b643c2c",
   "metadata": {},
   "source": [
    "### Q1.3. compare dummy(method 1 vs method 2)"
   ]
  },
  {
   "cell_type": "code",
   "execution_count": 23,
   "id": "a8bdaaed",
   "metadata": {},
   "outputs": [],
   "source": [
    "col = 'HaveWorkedLanguage'"
   ]
  },
  {
   "cell_type": "markdown",
   "id": "5e1903e9",
   "metadata": {},
   "source": [
    "#### Q1.3.1. method 1"
   ]
  },
  {
   "cell_type": "code",
   "execution_count": 24,
   "id": "42cf02a0",
   "metadata": {},
   "outputs": [
    {
     "name": "stdout",
     "output_type": "stream",
     "text": [
      "(12891, 3445)\n"
     ]
    },
    {
     "data": {
      "text/html": [
       "<div>\n",
       "<style scoped>\n",
       "    .dataframe tbody tr th:only-of-type {\n",
       "        vertical-align: middle;\n",
       "    }\n",
       "\n",
       "    .dataframe tbody tr th {\n",
       "        vertical-align: top;\n",
       "    }\n",
       "\n",
       "    .dataframe thead th {\n",
       "        text-align: right;\n",
       "    }\n",
       "</style>\n",
       "<table border=\"1\" class=\"dataframe\">\n",
       "  <thead>\n",
       "    <tr style=\"text-align: right;\">\n",
       "      <th></th>\n",
       "      <th>HaveWorkedLanguage_Assembly</th>\n",
       "      <th>HaveWorkedLanguage_Assembly; C</th>\n",
       "      <th>HaveWorkedLanguage_Assembly; C#</th>\n",
       "      <th>HaveWorkedLanguage_Assembly; C#; CoffeeScript; JavaScript; SQL; Swift; TypeScript</th>\n",
       "      <th>HaveWorkedLanguage_Assembly; C#; Common Lisp; JavaScript; PHP; Python; SQL; VBA</th>\n",
       "      <th>HaveWorkedLanguage_Assembly; C#; Go; Hack; Haskell; JavaScript; Lua; Objective-C; Perl; PHP; Python; Ruby; Rust; SQL; Swift; TypeScript; VBA</th>\n",
       "      <th>HaveWorkedLanguage_Assembly; C#; Go; Java; JavaScript; PHP; SQL</th>\n",
       "      <th>HaveWorkedLanguage_Assembly; C#; Go; JavaScript; PHP; Ruby; SQL</th>\n",
       "      <th>HaveWorkedLanguage_Assembly; C#; Groovy; Java; JavaScript; Matlab; Objective-C; Python; R; Swift</th>\n",
       "      <th>HaveWorkedLanguage_Assembly; C#; Java; JavaScript; Lua; Objective-C; PHP; SQL</th>\n",
       "      <th>...</th>\n",
       "      <th>HaveWorkedLanguage_Scala; SQL; TypeScript</th>\n",
       "      <th>HaveWorkedLanguage_Scala; SQL; VB.NET; VBA</th>\n",
       "      <th>HaveWorkedLanguage_Smalltalk</th>\n",
       "      <th>HaveWorkedLanguage_Smalltalk; SQL</th>\n",
       "      <th>HaveWorkedLanguage_Smalltalk; TypeScript</th>\n",
       "      <th>HaveWorkedLanguage_Swift</th>\n",
       "      <th>HaveWorkedLanguage_Swift; TypeScript</th>\n",
       "      <th>HaveWorkedLanguage_VB.NET</th>\n",
       "      <th>HaveWorkedLanguage_VBA</th>\n",
       "      <th>HaveWorkedLanguage_Visual Basic 6</th>\n",
       "    </tr>\n",
       "  </thead>\n",
       "  <tbody>\n",
       "    <tr>\n",
       "      <th>2</th>\n",
       "      <td>0</td>\n",
       "      <td>0</td>\n",
       "      <td>0</td>\n",
       "      <td>0</td>\n",
       "      <td>0</td>\n",
       "      <td>0</td>\n",
       "      <td>0</td>\n",
       "      <td>0</td>\n",
       "      <td>0</td>\n",
       "      <td>0</td>\n",
       "      <td>...</td>\n",
       "      <td>0</td>\n",
       "      <td>0</td>\n",
       "      <td>0</td>\n",
       "      <td>0</td>\n",
       "      <td>0</td>\n",
       "      <td>0</td>\n",
       "      <td>0</td>\n",
       "      <td>0</td>\n",
       "      <td>0</td>\n",
       "      <td>0</td>\n",
       "    </tr>\n",
       "    <tr>\n",
       "      <th>14</th>\n",
       "      <td>0</td>\n",
       "      <td>0</td>\n",
       "      <td>0</td>\n",
       "      <td>0</td>\n",
       "      <td>0</td>\n",
       "      <td>0</td>\n",
       "      <td>0</td>\n",
       "      <td>0</td>\n",
       "      <td>0</td>\n",
       "      <td>0</td>\n",
       "      <td>...</td>\n",
       "      <td>0</td>\n",
       "      <td>0</td>\n",
       "      <td>0</td>\n",
       "      <td>0</td>\n",
       "      <td>0</td>\n",
       "      <td>0</td>\n",
       "      <td>0</td>\n",
       "      <td>0</td>\n",
       "      <td>0</td>\n",
       "      <td>0</td>\n",
       "    </tr>\n",
       "  </tbody>\n",
       "</table>\n",
       "<p>2 rows × 3445 columns</p>\n",
       "</div>"
      ],
      "text/plain": [
       "    HaveWorkedLanguage_Assembly  HaveWorkedLanguage_Assembly; C  \\\n",
       "2                             0                               0   \n",
       "14                            0                               0   \n",
       "\n",
       "    HaveWorkedLanguage_Assembly; C#  \\\n",
       "2                                 0   \n",
       "14                                0   \n",
       "\n",
       "    HaveWorkedLanguage_Assembly; C#; CoffeeScript; JavaScript; SQL; Swift; TypeScript  \\\n",
       "2                                                   0                                   \n",
       "14                                                  0                                   \n",
       "\n",
       "    HaveWorkedLanguage_Assembly; C#; Common Lisp; JavaScript; PHP; Python; SQL; VBA  \\\n",
       "2                                                   0                                 \n",
       "14                                                  0                                 \n",
       "\n",
       "    HaveWorkedLanguage_Assembly; C#; Go; Hack; Haskell; JavaScript; Lua; Objective-C; Perl; PHP; Python; Ruby; Rust; SQL; Swift; TypeScript; VBA  \\\n",
       "2                                                   0                                                                                              \n",
       "14                                                  0                                                                                              \n",
       "\n",
       "    HaveWorkedLanguage_Assembly; C#; Go; Java; JavaScript; PHP; SQL  \\\n",
       "2                                                   0                 \n",
       "14                                                  0                 \n",
       "\n",
       "    HaveWorkedLanguage_Assembly; C#; Go; JavaScript; PHP; Ruby; SQL  \\\n",
       "2                                                   0                 \n",
       "14                                                  0                 \n",
       "\n",
       "    HaveWorkedLanguage_Assembly; C#; Groovy; Java; JavaScript; Matlab; Objective-C; Python; R; Swift  \\\n",
       "2                                                   0                                                  \n",
       "14                                                  0                                                  \n",
       "\n",
       "    HaveWorkedLanguage_Assembly; C#; Java; JavaScript; Lua; Objective-C; PHP; SQL  \\\n",
       "2                                                   0                               \n",
       "14                                                  0                               \n",
       "\n",
       "    ...  HaveWorkedLanguage_Scala; SQL; TypeScript  \\\n",
       "2   ...                                          0   \n",
       "14  ...                                          0   \n",
       "\n",
       "    HaveWorkedLanguage_Scala; SQL; VB.NET; VBA  HaveWorkedLanguage_Smalltalk  \\\n",
       "2                                            0                             0   \n",
       "14                                           0                             0   \n",
       "\n",
       "    HaveWorkedLanguage_Smalltalk; SQL  \\\n",
       "2                                   0   \n",
       "14                                  0   \n",
       "\n",
       "    HaveWorkedLanguage_Smalltalk; TypeScript  HaveWorkedLanguage_Swift  \\\n",
       "2                                          0                         0   \n",
       "14                                         0                         0   \n",
       "\n",
       "    HaveWorkedLanguage_Swift; TypeScript  HaveWorkedLanguage_VB.NET  \\\n",
       "2                                      0                          0   \n",
       "14                                     0                          0   \n",
       "\n",
       "    HaveWorkedLanguage_VBA  HaveWorkedLanguage_Visual Basic 6  \n",
       "2                        0                                  0  \n",
       "14                       0                                  0  \n",
       "\n",
       "[2 rows x 3445 columns]"
      ]
     },
     "execution_count": 24,
     "metadata": {},
     "output_type": "execute_result"
    }
   ],
   "source": [
    "print(dummy_dict1[col].shape)\n",
    "dummy_simple = dummy_dict1[col]\n",
    "dummy_simple.head(2)"
   ]
  },
  {
   "cell_type": "markdown",
   "id": "c8cb69e7",
   "metadata": {},
   "source": [
    "#### Q1.3.2. method 2"
   ]
  },
  {
   "cell_type": "code",
   "execution_count": 25,
   "id": "382dc4c7",
   "metadata": {},
   "outputs": [
    {
     "name": "stdout",
     "output_type": "stream",
     "text": [
      "(12891, 68)\n"
     ]
    },
    {
     "data": {
      "text/html": [
       "<div>\n",
       "<style scoped>\n",
       "    .dataframe tbody tr th:only-of-type {\n",
       "        vertical-align: middle;\n",
       "    }\n",
       "\n",
       "    .dataframe tbody tr th {\n",
       "        vertical-align: top;\n",
       "    }\n",
       "\n",
       "    .dataframe thead th {\n",
       "        text-align: right;\n",
       "    }\n",
       "</style>\n",
       "<table border=\"1\" class=\"dataframe\">\n",
       "  <thead>\n",
       "    <tr style=\"text-align: right;\">\n",
       "      <th></th>\n",
       "      <th>HaveWorkedLanguage_ C</th>\n",
       "      <th>HaveWorkedLanguage_ C#</th>\n",
       "      <th>HaveWorkedLanguage_ C++</th>\n",
       "      <th>HaveWorkedLanguage_ Clojure</th>\n",
       "      <th>HaveWorkedLanguage_ CoffeeScript</th>\n",
       "      <th>HaveWorkedLanguage_ Common Lisp</th>\n",
       "      <th>HaveWorkedLanguage_ Dart</th>\n",
       "      <th>HaveWorkedLanguage_ Elixir</th>\n",
       "      <th>HaveWorkedLanguage_ Erlang</th>\n",
       "      <th>HaveWorkedLanguage_ F#</th>\n",
       "      <th>...</th>\n",
       "      <th>HaveWorkedLanguage_R</th>\n",
       "      <th>HaveWorkedLanguage_Ruby</th>\n",
       "      <th>HaveWorkedLanguage_Rust</th>\n",
       "      <th>HaveWorkedLanguage_SQL</th>\n",
       "      <th>HaveWorkedLanguage_Scala</th>\n",
       "      <th>HaveWorkedLanguage_Smalltalk</th>\n",
       "      <th>HaveWorkedLanguage_Swift</th>\n",
       "      <th>HaveWorkedLanguage_VB.NET</th>\n",
       "      <th>HaveWorkedLanguage_VBA</th>\n",
       "      <th>HaveWorkedLanguage_Visual Basic 6</th>\n",
       "    </tr>\n",
       "  </thead>\n",
       "  <tbody>\n",
       "    <tr>\n",
       "      <th>2</th>\n",
       "      <td>0</td>\n",
       "      <td>0</td>\n",
       "      <td>0</td>\n",
       "      <td>0</td>\n",
       "      <td>0</td>\n",
       "      <td>0</td>\n",
       "      <td>0</td>\n",
       "      <td>0</td>\n",
       "      <td>0</td>\n",
       "      <td>0</td>\n",
       "      <td>...</td>\n",
       "      <td>0</td>\n",
       "      <td>0</td>\n",
       "      <td>0</td>\n",
       "      <td>0</td>\n",
       "      <td>0</td>\n",
       "      <td>0</td>\n",
       "      <td>0</td>\n",
       "      <td>0</td>\n",
       "      <td>0</td>\n",
       "      <td>0</td>\n",
       "    </tr>\n",
       "    <tr>\n",
       "      <th>14</th>\n",
       "      <td>1</td>\n",
       "      <td>0</td>\n",
       "      <td>1</td>\n",
       "      <td>0</td>\n",
       "      <td>0</td>\n",
       "      <td>0</td>\n",
       "      <td>0</td>\n",
       "      <td>0</td>\n",
       "      <td>0</td>\n",
       "      <td>0</td>\n",
       "      <td>...</td>\n",
       "      <td>0</td>\n",
       "      <td>0</td>\n",
       "      <td>0</td>\n",
       "      <td>0</td>\n",
       "      <td>0</td>\n",
       "      <td>0</td>\n",
       "      <td>0</td>\n",
       "      <td>0</td>\n",
       "      <td>0</td>\n",
       "      <td>0</td>\n",
       "    </tr>\n",
       "  </tbody>\n",
       "</table>\n",
       "<p>2 rows × 68 columns</p>\n",
       "</div>"
      ],
      "text/plain": [
       "    HaveWorkedLanguage_ C  HaveWorkedLanguage_ C#  HaveWorkedLanguage_ C++  \\\n",
       "2                       0                       0                        0   \n",
       "14                      1                       0                        1   \n",
       "\n",
       "    HaveWorkedLanguage_ Clojure  HaveWorkedLanguage_ CoffeeScript  \\\n",
       "2                             0                                 0   \n",
       "14                            0                                 0   \n",
       "\n",
       "    HaveWorkedLanguage_ Common Lisp  HaveWorkedLanguage_ Dart  \\\n",
       "2                                 0                         0   \n",
       "14                                0                         0   \n",
       "\n",
       "    HaveWorkedLanguage_ Elixir  HaveWorkedLanguage_ Erlang  \\\n",
       "2                            0                           0   \n",
       "14                           0                           0   \n",
       "\n",
       "    HaveWorkedLanguage_ F#  ...  HaveWorkedLanguage_R  \\\n",
       "2                        0  ...                     0   \n",
       "14                       0  ...                     0   \n",
       "\n",
       "    HaveWorkedLanguage_Ruby  HaveWorkedLanguage_Rust  HaveWorkedLanguage_SQL  \\\n",
       "2                         0                        0                       0   \n",
       "14                        0                        0                       0   \n",
       "\n",
       "    HaveWorkedLanguage_Scala  HaveWorkedLanguage_Smalltalk  \\\n",
       "2                          0                             0   \n",
       "14                         0                             0   \n",
       "\n",
       "    HaveWorkedLanguage_Swift  HaveWorkedLanguage_VB.NET  \\\n",
       "2                          0                          0   \n",
       "14                         0                          0   \n",
       "\n",
       "    HaveWorkedLanguage_VBA  HaveWorkedLanguage_Visual Basic 6  \n",
       "2                        0                                  0  \n",
       "14                       0                                  0  \n",
       "\n",
       "[2 rows x 68 columns]"
      ]
     },
     "execution_count": 25,
     "metadata": {},
     "output_type": "execute_result"
    }
   ],
   "source": [
    "print(dummy_dict2[col].shape)\n",
    "dummy_my = dummy_dict2[col]\n",
    "dummy_my.head(2)"
   ]
  },
  {
   "cell_type": "markdown",
   "id": "a077e383",
   "metadata": {},
   "source": [
    "#### Q1.3.3. Method 2 has fewer columns and multiple columns can be selected"
   ]
  },
  {
   "cell_type": "markdown",
   "id": "7a5d3888",
   "metadata": {},
   "source": [
    "##### Q1.3.3.1 Number of selected columns in method 1"
   ]
  },
  {
   "cell_type": "code",
   "execution_count": 26,
   "id": "fec80f1d",
   "metadata": {},
   "outputs": [
    {
     "name": "stdout",
     "output_type": "stream",
     "text": [
      "Number of selected columns in dummy1 is 1\n"
     ]
    }
   ],
   "source": [
    "number_of_ones = dummy_simple.loc[14, :].sum()\n",
    "print(f\"Number of selected columns in dummy1 is {number_of_ones}\")"
   ]
  },
  {
   "cell_type": "markdown",
   "id": "8b9517c8",
   "metadata": {},
   "source": [
    "##### Q1.3.3.2. Number of selected columns in method 2"
   ]
  },
  {
   "cell_type": "code",
   "execution_count": 27,
   "id": "b48520da",
   "metadata": {},
   "outputs": [
    {
     "name": "stdout",
     "output_type": "stream",
     "text": [
      "Number of selected columns in dummy2 is 3\n"
     ]
    }
   ],
   "source": [
    "number_of_ones = dummy_my.loc[14, :].sum()\n",
    "print(f\"Number of selected columns in dummy2 is {number_of_ones}\")"
   ]
  },
  {
   "cell_type": "code",
   "execution_count": null,
   "id": "873b56ec",
   "metadata": {},
   "outputs": [],
   "source": []
  },
  {
   "cell_type": "markdown",
   "id": "d05730dd",
   "metadata": {},
   "source": [
    "## Q2. Which column will give the best result?\n",
    "\n",
    "Predict salary using each column and rank based on r2score"
   ]
  },
  {
   "cell_type": "markdown",
   "id": "3ddda342",
   "metadata": {},
   "source": [
    "### Q2.1. Define functions to get r2scores"
   ]
  },
  {
   "cell_type": "code",
   "execution_count": 28,
   "id": "f47f4ec0",
   "metadata": {},
   "outputs": [],
   "source": [
    "from sklearn.model_selection import train_test_split\n",
    "from sklearn.linear_model import LinearRegression\n",
    "from sklearn.metrics import r2_score\n",
    "import time\n",
    "\n",
    "result_summary = [] # [[condition, rank_test, rank_train, time consumption], ...]"
   ]
  },
  {
   "cell_type": "code",
   "execution_count": 29,
   "id": "876df23e",
   "metadata": {},
   "outputs": [],
   "source": [
    "def train_model(X, y):\n",
    "    lm_model = LinearRegression(normalize=True) # Instantiate\n",
    "    lm_model.fit(X, y) #Fit\n",
    "    return lm_model"
   ]
  },
  {
   "cell_type": "code",
   "execution_count": 30,
   "id": "ff798217",
   "metadata": {},
   "outputs": [],
   "source": [
    "def check_result(col, df, y):\n",
    "#     print(col)\n",
    "#     print(f\"shape: {df.shape}\")\n",
    "    \n",
    "    X = df      \n",
    "    #Split into train and test\n",
    "    X_train, X_test, y_train, y_test = train_test_split(X, y, test_size = .30, random_state=42) \n",
    "    \n",
    "    model = train_model(X_train, y_train)\n",
    "\n",
    "    #Predict and score the model\n",
    "    y_test_preds = model.predict(X_test) \n",
    "    y_train_preds = model.predict(X_train)\n",
    "    test_score = r2_score(y_test, y_test_preds)\n",
    "    train_score = r2_score(y_train, y_train_preds)\n",
    "#     print(f\"test_score: {test_score}, train_score: {train_score}\")\n",
    "#     print('-'*40)\n",
    "    \n",
    "    return test_score, train_score"
   ]
  },
  {
   "cell_type": "code",
   "execution_count": 31,
   "id": "ee0a9e3d",
   "metadata": {},
   "outputs": [],
   "source": [
    "def get_rank_each_column(dict_num, dict_dummy):\n",
    "    rank_test = []\n",
    "    rank_train = []\n",
    "\n",
    "    for col, df_num in dict_num.items():\n",
    "        test_score, train_score = check_result(col, df_num.values.reshape(-1,1), y)\n",
    "\n",
    "        rank_test.append([test_score, col])\n",
    "        rank_train.append([train_score, col])\n",
    "\n",
    "    for col, df_obj in dict_dummy.items():   \n",
    "        test_score, train_score = check_result(col, df_obj, y)\n",
    "\n",
    "        rank_test.append([test_score, col])\n",
    "        rank_train.append([train_score, col])\n",
    "    return rank_test, rank_train"
   ]
  },
  {
   "cell_type": "markdown",
   "id": "cd6acf55",
   "metadata": {},
   "source": [
    "### Q2.2. Get prediction from each column"
   ]
  },
  {
   "cell_type": "markdown",
   "id": "93e85f2c",
   "metadata": {},
   "source": [
    "#### Q2.2.1. Prediction results for each columns(method 1)"
   ]
  },
  {
   "cell_type": "code",
   "execution_count": 32,
   "id": "4ddbf0b3",
   "metadata": {},
   "outputs": [],
   "source": [
    "start_time = time.time()\n",
    "rank_test, rank_train = get_rank_each_column(numeric_dict, dummy_dict1)\n",
    "time_consumption = time.time()-start_time"
   ]
  },
  {
   "cell_type": "code",
   "execution_count": 33,
   "id": "79f6521a",
   "metadata": {},
   "outputs": [
    {
     "name": "stdout",
     "output_type": "stream",
     "text": [
      "r2 score              Column name\n"
     ]
    },
    {
     "data": {
      "text/plain": [
       "[[0.4167738538485196, 'Currency'],\n",
       " [0.20301667135459334, 'YearsCodedJob'],\n",
       " [0.17681542205634249, 'YearsProgram']]"
      ]
     },
     "execution_count": 33,
     "metadata": {},
     "output_type": "execute_result"
    }
   ],
   "source": [
    "rank_test.sort(reverse=True)\n",
    "print(\"r2 score\", \"            \", \"Column name\")\n",
    "rank_test[:3]"
   ]
  },
  {
   "cell_type": "code",
   "execution_count": 34,
   "id": "27341a47",
   "metadata": {},
   "outputs": [
    {
     "name": "stdout",
     "output_type": "stream",
     "text": [
      "Best single column to predict the salary is Currency\n"
     ]
    },
    {
     "data": {
      "text/plain": [
       "('Time consumption: ', 56.01122832298279)"
      ]
     },
     "execution_count": 34,
     "metadata": {},
     "output_type": "execute_result"
    }
   ],
   "source": [
    "print(f\"Best single column to predict the salary is {rank_test[0][1]}\")\n",
    "\"Time consumption: \", time_consumption"
   ]
  },
  {
   "cell_type": "markdown",
   "id": "b8fb42f6",
   "metadata": {},
   "source": [
    "##### Add result to summary"
   ]
  },
  {
   "cell_type": "code",
   "execution_count": 35,
   "id": "6bd94f7b",
   "metadata": {},
   "outputs": [],
   "source": [
    "# [condition, rank_test, rank_train, time consumption]\n",
    "result_summary.append([[\"method 1\", \"single column\"], rank_test, rank_train, time_consumption]) "
   ]
  },
  {
   "cell_type": "markdown",
   "id": "be6d177a",
   "metadata": {},
   "source": [
    "#### Q2.2.2. Prediction results for each columns(method 2)"
   ]
  },
  {
   "cell_type": "code",
   "execution_count": 36,
   "id": "77e5b582",
   "metadata": {},
   "outputs": [],
   "source": [
    "start_time = time.time()\n",
    "rank_test, rank_train = get_rank_each_column(numeric_dict, dummy_dict2)\n",
    "time_consumption = time.time() - start_time"
   ]
  },
  {
   "cell_type": "code",
   "execution_count": 37,
   "id": "037fc4c3",
   "metadata": {},
   "outputs": [
    {
     "name": "stdout",
     "output_type": "stream",
     "text": [
      "r2 score              Column name\n"
     ]
    },
    {
     "data": {
      "text/plain": [
       "[[0.4167738538485196, 'Currency'],\n",
       " [0.20301667135459334, 'YearsCodedJob'],\n",
       " [0.17681542205634249, 'YearsProgram']]"
      ]
     },
     "execution_count": 37,
     "metadata": {},
     "output_type": "execute_result"
    }
   ],
   "source": [
    "rank_test.sort(reverse=True)\n",
    "print(\"r2 score\", \"            \", \"Column name\")\n",
    "rank_test[:3]"
   ]
  },
  {
   "cell_type": "code",
   "execution_count": 38,
   "id": "2fc2d91d",
   "metadata": {},
   "outputs": [
    {
     "name": "stdout",
     "output_type": "stream",
     "text": [
      "Best single column to predict the salary is Currency\n"
     ]
    },
    {
     "data": {
      "text/plain": [
       "('Time consumption: ', 0.9449629783630371)"
      ]
     },
     "execution_count": 38,
     "metadata": {},
     "output_type": "execute_result"
    }
   ],
   "source": [
    "print(f\"Best single column to predict the salary is {rank_test[0][1]}\")\n",
    "\"Time consumption: \", time_consumption"
   ]
  },
  {
   "cell_type": "markdown",
   "id": "1ab6dc31",
   "metadata": {},
   "source": [
    "##### Add result to summary"
   ]
  },
  {
   "cell_type": "code",
   "execution_count": 39,
   "id": "aec6e017",
   "metadata": {},
   "outputs": [],
   "source": [
    "# [condition, rank_test, rank_train, time consumption]\n",
    "result_summary.append([[\"method 2\", \"single column\"], rank_test, rank_train, time_consumption]) "
   ]
  },
  {
   "cell_type": "code",
   "execution_count": null,
   "id": "45f9449a",
   "metadata": {},
   "outputs": [],
   "source": []
  },
  {
   "cell_type": "markdown",
   "id": "2c4cb60a",
   "metadata": {},
   "source": [
    "## Q3. How many columns should be selected in order of ranking to obtain the best r2 score?\n",
    "#### To get a better r2score, determine the number of columns, select the number of columns from the first place in the ranking, predict the salary, and get the r2score"
   ]
  },
  {
   "cell_type": "markdown",
   "id": "fc4ccc68",
   "metadata": {},
   "source": [
    "### Q3.1. Define number of features and function to ranking of r2scores"
   ]
  },
  {
   "cell_type": "code",
   "execution_count": 40,
   "id": "02c12127",
   "metadata": {},
   "outputs": [],
   "source": [
    "num_features = [1, 2, 3, 4, 5, 6, 7, 10, 20, 50, 100, X.shape[1]-3, X.shape[1]-2, X.shape[1]-1, X.shape[1]]"
   ]
  },
  {
   "cell_type": "code",
   "execution_count": 41,
   "id": "c7200991",
   "metadata": {},
   "outputs": [],
   "source": [
    "def get_rank_number_column(dict_num, dict_dummy, rank):\n",
    "    rank_test, rank_train = [], []\n",
    "    for num in num_features:\n",
    "        features = []\n",
    "        for i in range(num):\n",
    "            features.append(rank[i][1])\n",
    "        X = pd.DataFrame()\n",
    "        for feature in features:\n",
    "            if feature in dict_num:\n",
    "                X = pd.concat([X, dict_num[feature]], axis=1)\n",
    "            elif feature in dict_dummy:\n",
    "                X = pd.concat([X, dict_dummy[feature]], axis=1)\n",
    "            else:\n",
    "                print(f\"{feature} not in numeric_dict or categorized_df_dict!!!\")\n",
    "                \n",
    "\n",
    "        test_score, train_score = check_result(num, X, y)\n",
    "        rank_test.append([test_score, num])\n",
    "        rank_train.append([train_score, num])\n",
    "        \n",
    "        print(f\"number of features: {num}, r2score: {test_score}, shape of X: {X.shape}\")\n",
    "    return rank_test, rank_train"
   ]
  },
  {
   "cell_type": "markdown",
   "id": "1d69d887",
   "metadata": {},
   "source": [
    "### Q3.2. Get r2 scores using method 1"
   ]
  },
  {
   "cell_type": "code",
   "execution_count": 42,
   "id": "1ad81aca",
   "metadata": {
    "scrolled": true
   },
   "outputs": [
    {
     "name": "stdout",
     "output_type": "stream",
     "text": [
      "number of features: 1, r2score: 0.4167738538485196\n",
      "number of features: 2, r2score: 0.5533608651193768\n",
      "number of features: 3, r2score: 0.5579702570388851\n",
      "number of features: 4, r2score: 0.5907981786641967\n",
      "number of features: 5, r2score: -2.8933110678915737e+24\n",
      "number of features: 6, r2score: -3.89664570061889e+23\n",
      "number of features: 7, r2score: -3.342687532038344e+24\n",
      "number of features: 10, r2score: -1.3860895637801805e+25\n",
      "number of features: 20, r2score: -6.550066498594873e+23\n",
      "number of features: 50, r2score: -2.447397800897439e+26\n",
      "number of features: 100, r2score: -4.3798824048001777e+24\n",
      "number of features: 142, r2score: -1.159010143378907e+28\n",
      "number of features: 143, r2score: -292.51430030864503\n",
      "number of features: 144, r2score: -1.9209987489382225\n",
      "number of features: 145, r2score: -0.42987120036592863\n"
     ]
    }
   ],
   "source": [
    "rank = result_summary[0][1]\n",
    "start_time = time.time()\n",
    "rank_test, rank_train = get_rank_number_column(numeric_dict, dummy_dict1, rank)\n",
    "time_consumption = time.time()-start_time"
   ]
  },
  {
   "cell_type": "code",
   "execution_count": 43,
   "id": "016c8933",
   "metadata": {},
   "outputs": [
    {
     "name": "stdout",
     "output_type": "stream",
     "text": [
      "r2 score              Number of Columns\n"
     ]
    },
    {
     "data": {
      "text/plain": [
       "[[0.5907981786641967, 4],\n",
       " [0.5579702570388851, 3],\n",
       " [0.5533608651193768, 2],\n",
       " [0.4167738538485196, 1],\n",
       " [-0.42987120036592863, 145]]"
      ]
     },
     "execution_count": 43,
     "metadata": {},
     "output_type": "execute_result"
    }
   ],
   "source": [
    "rank_test.sort(reverse=True)\n",
    "print(\"r2 score\", \"            \", \"Number of Columns\")\n",
    "rank_test[:5]"
   ]
  },
  {
   "cell_type": "code",
   "execution_count": 44,
   "id": "c01aa4ef",
   "metadata": {},
   "outputs": [
    {
     "name": "stdout",
     "output_type": "stream",
     "text": [
      "Best number of columns to predict the salary is 4\n"
     ]
    },
    {
     "data": {
      "text/plain": [
       "('Time consumption: ', 1053.7508380413055)"
      ]
     },
     "execution_count": 44,
     "metadata": {},
     "output_type": "execute_result"
    }
   ],
   "source": [
    "print(f\"Best number of columns to predict the salary is {rank_test[0][1]}\")\n",
    "\"Time consumption: \", time_consumption"
   ]
  },
  {
   "cell_type": "code",
   "execution_count": 45,
   "id": "0a2910e4",
   "metadata": {},
   "outputs": [],
   "source": [
    "# [condition, rank_test, rank_train, time consumption]\n",
    "result_summary.append([[\"method 1\", \"number of columns\"], rank_test, rank_train, time_consumption]) "
   ]
  },
  {
   "cell_type": "markdown",
   "id": "b1167a03",
   "metadata": {},
   "source": [
    "### Q3.3. Get r2 scores using method 2"
   ]
  },
  {
   "cell_type": "code",
   "execution_count": 46,
   "id": "58e6437a",
   "metadata": {
    "scrolled": true
   },
   "outputs": [
    {
     "name": "stdout",
     "output_type": "stream",
     "text": [
      "number of features: 1, r2score: 0.4167738538485196\n",
      "number of features: 2, r2score: 0.5533608651193768\n",
      "number of features: 3, r2score: 0.5579702570388851\n",
      "number of features: 4, r2score: 0.5907981786641967\n",
      "number of features: 5, r2score: 0.6057809978127665\n",
      "number of features: 6, r2score: 0.6094893088177588\n",
      "number of features: 7, r2score: -5.430516754220984e+23\n",
      "number of features: 10, r2score: -1.4121282631674564e+26\n",
      "number of features: 20, r2score: -3.7539335231166577e+25\n",
      "number of features: 50, r2score: -3.979132219365716e+24\n",
      "number of features: 100, r2score: -9.608937855305889e+23\n",
      "number of features: 142, r2score: -1.8441373746018724e+24\n",
      "number of features: 143, r2score: -5.126914621982429e+23\n",
      "number of features: 144, r2score: -5.845549151340118e+23\n",
      "number of features: 145, r2score: -1.9138531130635174e+24\n"
     ]
    }
   ],
   "source": [
    "rank = result_summary[1][1]\n",
    "start_time = time.time()\n",
    "rank_test, rank_train_number2 = get_rank_number_column(numeric_dict, dummy_dict2, rank)\n",
    "time_consumption = time.time()-start_time"
   ]
  },
  {
   "cell_type": "code",
   "execution_count": 47,
   "id": "bbf4d942",
   "metadata": {},
   "outputs": [
    {
     "name": "stdout",
     "output_type": "stream",
     "text": [
      "r2 score              Number of Columns\n"
     ]
    },
    {
     "data": {
      "text/plain": [
       "[[0.6094893088177588, 6],\n",
       " [0.6057809978127665, 5],\n",
       " [0.5907981786641967, 4],\n",
       " [0.5579702570388851, 3],\n",
       " [0.5533608651193768, 2]]"
      ]
     },
     "execution_count": 47,
     "metadata": {},
     "output_type": "execute_result"
    }
   ],
   "source": [
    "rank_test.sort(reverse=True)\n",
    "print(\"r2 score\", \"            \", \"Number of Columns\")\n",
    "rank_test[:5]"
   ]
  },
  {
   "cell_type": "code",
   "execution_count": 48,
   "id": "b470b54d",
   "metadata": {},
   "outputs": [
    {
     "name": "stdout",
     "output_type": "stream",
     "text": [
      "Best number of columns to predict the salary is 6\n"
     ]
    },
    {
     "data": {
      "text/plain": [
       "('Time consumption: ', 8.216017723083496)"
      ]
     },
     "execution_count": 48,
     "metadata": {},
     "output_type": "execute_result"
    }
   ],
   "source": [
    "print(f\"Best number of columns to predict the salary is {rank_test[0][1]}\")\n",
    "\"Time consumption: \", time_consumption"
   ]
  },
  {
   "cell_type": "code",
   "execution_count": 49,
   "id": "dd2f645e",
   "metadata": {},
   "outputs": [],
   "source": [
    "# [condition, rank_test, rank_train, time consumption]\n",
    "result_summary.append([[\"method 2\", \"number of columns\"], rank_test, rank_train, time_consumption])"
   ]
  },
  {
   "cell_type": "code",
   "execution_count": null,
   "id": "39fce708",
   "metadata": {},
   "outputs": [],
   "source": []
  },
  {
   "cell_type": "markdown",
   "id": "3a725ee5",
   "metadata": {},
   "source": [
    "## Q4. What happens to the result when only the column with good results are selected?\n",
    "#### Select a column from the first place in the ranking and check the result. If a bad result is found, the column is not selected and the next column is selected repeatedly."
   ]
  },
  {
   "cell_type": "markdown",
   "id": "e9735194",
   "metadata": {},
   "source": [
    "### Q4.1.  Get rank, define function that gives best result"
   ]
  },
  {
   "cell_type": "code",
   "execution_count": 50,
   "id": "1e400eff",
   "metadata": {},
   "outputs": [],
   "source": [
    "import numpy as np\n",
    "\n",
    "rank_method1 = np.array(result_summary[0][1])[:, 1]\n",
    "rank_method2 = np.array(result_summary[1][1])[:, 1]"
   ]
  },
  {
   "cell_type": "code",
   "execution_count": 51,
   "id": "16359764",
   "metadata": {},
   "outputs": [],
   "source": [
    "def get_cols_gives_best_results(dict_num, dict_dummy, ranks):\n",
    "    best_cols = []\n",
    "    features = []\n",
    "    best_score = 0\n",
    "\n",
    "    for rank in ranks:\n",
    "        features.append(rank)\n",
    "\n",
    "        X = pd.DataFrame()\n",
    "        for feature in features:\n",
    "            if feature in dict_num:\n",
    "                X = pd.concat([X, dict_num[feature]], axis=1)\n",
    "            elif feature in dict_dummy:\n",
    "                X = pd.concat([X, dict_dummy[feature]], axis=1)\n",
    "            else:\n",
    "                print(f\"{feature} not in numeric_dict or categorized_df_dict!!!\")\n",
    "        test_score, train_score = check_result(len(features), X, y)\n",
    "\n",
    "        if test_score > best_score:\n",
    "            best_cols.append(rank)\n",
    "            best_score = test_score\n",
    "        else:\n",
    "            features.pop(-1)\n",
    "\n",
    "    print(f\"Best score: {round(best_score, 3)}\")\n",
    "    print(f\"Number of features: {len(features)}\")\n",
    "#     print(f\"Best features: {best_cols}\")"
   ]
  },
  {
   "cell_type": "markdown",
   "id": "18f994a9",
   "metadata": {},
   "source": [
    "### Q4.2 Method 1 results"
   ]
  },
  {
   "cell_type": "code",
   "execution_count": 52,
   "id": "5e658e17",
   "metadata": {},
   "outputs": [
    {
     "name": "stdout",
     "output_type": "stream",
     "text": [
      "Best score: 0.659\n",
      "Number of features: 27\n",
      "Time Consumption: 85.64120817184448\n"
     ]
    }
   ],
   "source": [
    "start_time = time.time()\n",
    "get_cols_gives_best_results(numeric_dict, dummy_dict1, rank_method1)\n",
    "print(f\"Time Consumption: {time.time()-start_time}\")"
   ]
  },
  {
   "cell_type": "code",
   "execution_count": 53,
   "id": "b6efe954",
   "metadata": {},
   "outputs": [],
   "source": [
    "# [condition, rank_test, rank_train, time consumption]\n",
    "result_summary.append([[\"method 1\", \"columns with best results\"], rank_test, rank_train, time_consumption])"
   ]
  },
  {
   "cell_type": "markdown",
   "id": "fd447dfd",
   "metadata": {},
   "source": [
    "### Q4.3. Method 2 results"
   ]
  },
  {
   "cell_type": "code",
   "execution_count": 54,
   "id": "a4aec86c",
   "metadata": {},
   "outputs": [
    {
     "name": "stdout",
     "output_type": "stream",
     "text": [
      "Best score: 0.62\n",
      "Number of features: 8\n",
      "Time Consumption: 10.781554222106934\n"
     ]
    }
   ],
   "source": [
    "start_time = time.time()\n",
    "get_cols_gives_best_results(numeric_dict, dummy_dict2, rank_method2)\n",
    "print(f\"Time Consumption: {time.time()-start_time}\")"
   ]
  },
  {
   "cell_type": "code",
   "execution_count": 55,
   "id": "b804aa74",
   "metadata": {},
   "outputs": [],
   "source": [
    "# [condition, rank_test, rank_train, time consumption]\n",
    "result_summary.append([[\"method 2\", \"columns with best results\"], rank_test, rank_train, time_consumption])"
   ]
  },
  {
   "cell_type": "code",
   "execution_count": null,
   "id": "6b19cb7f",
   "metadata": {},
   "outputs": [],
   "source": []
  },
  {
   "cell_type": "code",
   "execution_count": null,
   "id": "c9900cc9",
   "metadata": {},
   "outputs": [],
   "source": []
  },
  {
   "cell_type": "markdown",
   "id": "445c07cb",
   "metadata": {},
   "source": [
    "## Q5. Conclusion"
   ]
  },
  {
   "cell_type": "markdown",
   "id": "78c67c60",
   "metadata": {},
   "source": [
    "#### There was no significant difference in the r2 score of Method 1 and Method 2.\n",
    "#### A big difference was found in the time consumption\n",
    "#### The time consumed for method 2 was found to be less than 1/60 to 1/6 compared to method 1\n"
   ]
  },
  {
   "cell_type": "markdown",
   "id": "2c9d27eb",
   "metadata": {},
   "source": [
    "### Q5.1. Summary"
   ]
  },
  {
   "cell_type": "code",
   "execution_count": 58,
   "id": "cee877f7",
   "metadata": {},
   "outputs": [
    {
     "name": "stdout",
     "output_type": "stream",
     "text": [
      "Condition(dummy method): method 1\n",
      "Condition(number of columns): single column\n",
      "The column to predict the best r2score: Currency, r2score: 0.417\n",
      "Time consumption: 56.0 seconds\n"
     ]
    }
   ],
   "source": [
    "condition, rank_test, _, time_consumption = result_summary[0]\n",
    "print(f\"Condition(dummy method): {condition[0]}\")\n",
    "print(f\"Condition(number of columns): {condition[1]}\")\n",
    "print(f\"The column to predict the best r2score: {rank_test[0][1]}, r2score: {round(rank_test[0][0], 3)}\")\n",
    "print(f\"Time consumption: {round(time_consumption, 1)} seconds\")"
   ]
  },
  {
   "cell_type": "code",
   "execution_count": 59,
   "id": "013ac62f",
   "metadata": {},
   "outputs": [
    {
     "name": "stdout",
     "output_type": "stream",
     "text": [
      "Condition(dummy method): method 2\n",
      "Condition(number of columns): single column\n",
      "The column to predict the best r2score: Currency, r2score: 0.417\n",
      "Time consumption: 0.9 seconds\n"
     ]
    }
   ],
   "source": [
    "condition, rank_test, _, time_consumption = result_summary[1]\n",
    "print(f\"Condition(dummy method): {condition[0]}\")\n",
    "print(f\"Condition(number of columns): {condition[1]}\")\n",
    "print(f\"The column to predict the best r2score: {rank_test[0][1]}, r2score: {round(rank_test[0][0], 3)}\")\n",
    "print(f\"Time consumption: {round(time_consumption, 1)} seconds\")"
   ]
  },
  {
   "cell_type": "code",
   "execution_count": 60,
   "id": "810c657d",
   "metadata": {},
   "outputs": [
    {
     "name": "stdout",
     "output_type": "stream",
     "text": [
      "Condition(dummy method): method 2\n",
      "Condition(number of columns): number of columns\n",
      "The number of columns to predict the best r2score: 4, r2score: 0.591\n",
      "Time consumption: 1053.8 seconds\n"
     ]
    }
   ],
   "source": [
    "condition, rank_test, _, time_consumption = result_summary[2]\n",
    "print(f\"Condition(dummy method): {condition[0]}\")\n",
    "print(f\"Condition(number of columns): {condition[1]}\")\n",
    "print(f\"The number of columns to predict the best r2score: {rank_test[0][1]}, r2score: {round(rank_test[0][0], 3)}\")\n",
    "print(f\"Time consumption: {round(time_consumption, 1)} seconds\")"
   ]
  },
  {
   "cell_type": "code",
   "execution_count": 61,
   "id": "8e16ad51",
   "metadata": {},
   "outputs": [
    {
     "name": "stdout",
     "output_type": "stream",
     "text": [
      "Condition(dummy method): method 2\n",
      "Condition(number of columns): number of columns\n",
      "The number of columns to predict the best r2score: 6, r2score: 0.609\n",
      "Time consumption: 8.2 seconds\n"
     ]
    }
   ],
   "source": [
    "condition, rank_test, _, time_consumption = result_summary[3]\n",
    "print(f\"Condition(dummy method): {condition[0]}\")\n",
    "print(f\"Condition(number of columns): {condition[1]}\")\n",
    "print(f\"The number of columns to predict the best r2score: {rank_test[0][1]}, r2score: {round(rank_test[0][0], 3)}\")\n",
    "print(f\"Time consumption: {round(time_consumption, 1)} seconds\")"
   ]
  },
  {
   "cell_type": "code",
   "execution_count": null,
   "id": "80562bb2",
   "metadata": {},
   "outputs": [],
   "source": []
  },
  {
   "cell_type": "markdown",
   "id": "4d343ffa",
   "metadata": {},
   "source": [
    "### Q5.2. Time consumption comparison"
   ]
  },
  {
   "cell_type": "markdown",
   "id": "321f04d9",
   "metadata": {},
   "source": [
    "#### Q5.2.1 Time consumption to predict salary using each columns"
   ]
  },
  {
   "cell_type": "code",
   "execution_count": 62,
   "id": "b685fa43",
   "metadata": {},
   "outputs": [
    {
     "name": "stdout",
     "output_type": "stream",
     "text": [
      "Method 1: 56.01122832298279, Method 2: 0.9449629783630371, Method 2/Method 1: 0.016870956175322718\n"
     ]
    }
   ],
   "source": [
    "# single column regression time consumption\n",
    "time1 = result_summary[0][3]\n",
    "time2 = result_summary[1][3]\n",
    "print(f\"Method 1: {time1}, Method 2: {time2}, Method 2/Method 1: {time2/time1}\")"
   ]
  },
  {
   "cell_type": "markdown",
   "id": "47c1d722",
   "metadata": {},
   "source": [
    "#### Q5.2.2 Time consumption to predict salary using more than 1 column"
   ]
  },
  {
   "cell_type": "code",
   "execution_count": 63,
   "id": "9a054b2e",
   "metadata": {},
   "outputs": [
    {
     "name": "stdout",
     "output_type": "stream",
     "text": [
      "Method 1: 1053.7508380413055, Method 2: 8.216017723083496, Method 2/Method 1: 0.0077969263951953695\n"
     ]
    }
   ],
   "source": [
    "# multiple columns regression time consumption\n",
    "time3 = result_summary[2][3]\n",
    "time4 = result_summary[3][3]\n",
    "print(f\"Method 1: {time3}, Method 2: {time4}, Method 2/Method 1: {time4/time3}\")"
   ]
  },
  {
   "cell_type": "markdown",
   "id": "21b3be5d",
   "metadata": {},
   "source": [
    "#### Q5.2.3 Time consumption to get best results"
   ]
  },
  {
   "cell_type": "code",
   "execution_count": 64,
   "id": "1475cc24",
   "metadata": {},
   "outputs": [
    {
     "name": "stdout",
     "output_type": "stream",
     "text": [
      "Method 1: 1053.7508380413055, Method 2: 8.216017723083496, Method 2/Method 1: 0.0077969263951953695\n"
     ]
    }
   ],
   "source": [
    "# time consumption when finding best result \n",
    "time3 = result_summary[2][3]\n",
    "time4 = result_summary[3][3]\n",
    "print(f\"Method 1: {time3}, Method 2: {time4}, Method 2/Method 1: {time4/time3}\")"
   ]
  },
  {
   "cell_type": "markdown",
   "id": "0f6273c6",
   "metadata": {},
   "source": [
    "### Q5.3. Conclusion"
   ]
  },
  {
   "cell_type": "markdown",
   "id": "bf61e906",
   "metadata": {},
   "source": [
    "### I compared two methods of finding a dummy.\n",
    "\n",
    "### Both methods showed no significant difference in r2score.\n",
    "\n",
    "### However, since the time required for method 2 was significantly smaller than that of method 1, it seems reasonable to choose method 2"
   ]
  },
  {
   "cell_type": "code",
   "execution_count": null,
   "id": "bad5044d",
   "metadata": {},
   "outputs": [],
   "source": []
  }
 ],
 "metadata": {
  "kernelspec": {
   "display_name": "DataScience",
   "language": "python",
   "name": "thk"
  },
  "language_info": {
   "codemirror_mode": {
    "name": "ipython",
    "version": 3
   },
   "file_extension": ".py",
   "mimetype": "text/x-python",
   "name": "python",
   "nbconvert_exporter": "python",
   "pygments_lexer": "ipython3",
   "version": "3.10.4"
  }
 },
 "nbformat": 4,
 "nbformat_minor": 5
}
